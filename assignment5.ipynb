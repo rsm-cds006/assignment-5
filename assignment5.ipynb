{
 "cells": [
  {
   "cell_type": "code",
   "execution_count": 1,
   "metadata": {},
   "outputs": [],
   "source": [
    "import pandas as pd\n",
    "import polars as pl\n",
    "from sklearn.model_selection import train_test_split\n",
    "from sklearn.linear_model import LogisticRegression\n",
    "from sklearn.compose import ColumnTransformer\n",
    "from sklearn.metrics import accuracy_score, confusion_matrix,classification_report\n",
    "from sklearn.preprocessing import LabelEncoder,OneHotEncoder,KBinsDiscretizer\n",
    "\n",
    "# Load the data\n",
    "df_train = pd.read_csv('Training_Main_Data.csv')\n",
    "df_test = pd.read_csv('Testing_Main_Data.csv')\n",
    "extra_train = pd.read_csv('Training_Hidden_Data.csv')\n",
    "extra_test = pd.read_csv('Testing_Hidden_Data.csv')"
   ]
  },
  {
   "cell_type": "code",
   "execution_count": 2,
   "metadata": {},
   "outputs": [
    {
     "data": {
      "text/plain": [
       "25900"
      ]
     },
     "execution_count": 2,
     "metadata": {},
     "output_type": "execute_result"
    }
   ],
   "source": [
    "#question 1 \n",
    "c_ad = 10\n",
    "c_re = c_ad + 10\n",
    "countReAdmTest = df_test['Readmission_Within_30_Days'].value_counts()[1]\n",
    "\n",
    "costExpModel = c_re*countReAdmTest\n",
    "costExpModel"
   ]
  },
  {
   "cell_type": "code",
   "execution_count": 3,
   "metadata": {},
   "outputs": [
    {
     "name": "stderr",
     "output_type": "stream",
     "text": [
      "/opt/conda/lib/python3.11/site-packages/sklearn/linear_model/_logistic.py:1183: FutureWarning: `penalty='none'`has been deprecated in 1.2 and will be removed in 1.4. To keep the past behaviour, set `penalty=None`.\n",
      "  warnings.warn(\n"
     ]
    },
    {
     "name": "stdout",
     "output_type": "stream",
     "text": [
      "[[1349  356]\n",
      " [ 857  438]]\n",
      "              precision    recall  f1-score   support\n",
      "\n",
      "           0       0.61      0.79      0.69      1705\n",
      "           1       0.55      0.34      0.42      1295\n",
      "\n",
      "    accuracy                           0.60      3000\n",
      "   macro avg       0.58      0.56      0.55      3000\n",
      "weighted avg       0.59      0.60      0.57      3000\n",
      "\n"
     ]
    }
   ],
   "source": [
    "#question 2\n",
    "X_train = df_train.drop(['Readmission_Within_30_Days'], axis=1)\n",
    "X_test = df_test.drop(['Readmission_Within_30_Days'], axis=1)\n",
    "\n",
    "y_train = df_train['Readmission_Within_30_Days']\n",
    "y_test = df_test['Readmission_Within_30_Days']\n",
    "\n",
    "\n",
    "model = LogisticRegression(max_iter=1000, penalty = 'none')\n",
    "model.fit(X_train, y_train)\n",
    "y_pred = model.predict(X_test)\n",
    "\n",
    "## confusion matrix \n",
    "cm = confusion_matrix(y_test, y_pred)\n",
    "print(cm)\n",
    "\n",
    "cr = classification_report(y_test, y_pred)\n",
    "print(cr)"
   ]
  },
  {
   "cell_type": "code",
   "execution_count": 4,
   "metadata": {},
   "outputs": [
    {
     "data": {
      "text/plain": [
       "25080"
      ]
     },
     "execution_count": 4,
     "metadata": {},
     "output_type": "execute_result"
    }
   ],
   "source": [
    "#question 3\n",
    "def loss_readm(responseTrue,responsePred):\n",
    "    # Assumptions \n",
    "    base_cost = 10  # Cost \n",
    "    readm_cost = base_cost + 10  # \n",
    "    \n",
    "    # Get confusion matrix\n",
    "    cm = confusion_matrix(responseTrue,responsePred)\n",
    "\n",
    "    loss = cm[1,0]*readm_cost + (cm[0,1]+cm[1,1])*base_cost\n",
    "    \n",
    "    return loss\n",
    "\n",
    "\n",
    "loss_m1 = loss_readm(y_test, y_pred)\n",
    "loss_m1"
   ]
  },
  {
   "cell_type": "code",
   "execution_count": 5,
   "metadata": {},
   "outputs": [
    {
     "name": "stderr",
     "output_type": "stream",
     "text": [
      "/opt/conda/lib/python3.11/site-packages/sklearn/linear_model/_logistic.py:1183: FutureWarning: `penalty='none'`has been deprecated in 1.2 and will be removed in 1.4. To keep the past behaviour, set `penalty=None`.\n",
      "  warnings.warn(\n"
     ]
    },
    {
     "name": "stdout",
     "output_type": "stream",
     "text": [
      "[[1316  389]\n",
      " [ 796  499]]\n",
      "              precision    recall  f1-score   support\n",
      "\n",
      "           0       0.62      0.77      0.69      1705\n",
      "           1       0.56      0.39      0.46      1295\n",
      "\n",
      "    accuracy                           0.60      3000\n",
      "   macro avg       0.59      0.58      0.57      3000\n",
      "weighted avg       0.60      0.60      0.59      3000\n",
      "\n"
     ]
    }
   ],
   "source": [
    "#question 4 \n",
    "df_train2 = pd.concat([df_train, extra_train], axis=1)\n",
    "df_test2 = pd.concat([df_test, extra_test], axis=1)\n",
    "\n",
    "X_train2 = df_train2.drop(['Readmission_Within_30_Days'], axis=1)\n",
    "X_test2 = df_test2.drop(['Readmission_Within_30_Days'], axis=1)\n",
    "\n",
    "model2 = LogisticRegression(max_iter=1000, penalty = 'none')\n",
    "model2.fit(X_train2, y_train)\n",
    "\n",
    "y_pred2 = model2.predict(X_test2)\n",
    "\n",
    "## confusion matrix \n",
    "cm2 = confusion_matrix(y_test, y_pred2)\n",
    "print(cm2)\n",
    "\n",
    "cr2 = classification_report(y_test, y_pred2)\n",
    "print(cr2)"
   ]
  },
  {
   "cell_type": "code",
   "execution_count": null,
   "metadata": {},
   "outputs": [],
   "source": [
    "#question 5\n",
    "loss_m2 = loss_readm(y_test, y_pred2)\n",
    "loss_m2"
   ]
  },
  {
   "cell_type": "code",
   "execution_count": 6,
   "metadata": {},
   "outputs": [
    {
     "name": "stdout",
     "output_type": "stream",
     "text": [
      "26860\n",
      "26745\n"
     ]
    }
   ],
   "source": [
    "#question 5\n",
    "def loss_readm2(responseTrue,responsePred):\n",
    "    # Assumptions \n",
    "    base_cost = 10  # Cost \n",
    "    readm_cost = base_cost + 10  # \n",
    "    in_cost = 5  # \n",
    "    \n",
    "    # Get confusion matrix\n",
    "    cm = confusion_matrix(responseTrue,responsePred)\n",
    "\n",
    "    loss = cm[1,0]*readm_cost + (cm[0,1]+cm[1,1])*base_cost + cm[0,1]*in_cost\n",
    "    \n",
    "    return loss\n",
    "\n",
    "\n",
    "\n",
    "loss_m1_2 = loss_readm2(y_test, y_pred)\n",
    "loss_m2_2 = loss_readm2(y_test, y_pred2)\n",
    "\n",
    "print(loss_m1_2)\n",
    "print(loss_m2_2)"
   ]
  }
 ],
 "metadata": {
  "kernelspec": {
   "display_name": "base",
   "language": "python",
   "name": "python3"
  },
  "language_info": {
   "codemirror_mode": {
    "name": "ipython",
    "version": 3
   },
   "file_extension": ".py",
   "mimetype": "text/x-python",
   "name": "python",
   "nbconvert_exporter": "python",
   "pygments_lexer": "ipython3",
   "version": "3.11.6"
  }
 },
 "nbformat": 4,
 "nbformat_minor": 2
}
